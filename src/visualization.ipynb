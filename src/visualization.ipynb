{
 "cells": [
  {
   "cell_type": "code",
   "execution_count": null,
   "id": "87c88d68-358e-4dce-a7c5-891479ddbda2",
   "metadata": {},
   "outputs": [],
   "source": [
    "import torch\n",
    "from joblib import load\n",
    "from visualization.visualization import *\n",
    "from evaluation.evaluate_predictions import get_metrics\n",
    "from data.data_processing import reshape_raveled_data, ravel_data\n",
    "from utils.data import phys_unit_to_index\n",
    "from utils.jmag import get_jmag\n",
    "from globals.initialization import set_constants\n",
    "import globals.constants as const\n",
    "\n",
    "# Initialize constants\n",
    "set_constants(no_cuda=True, noise=False)"
   ]
  },
  {
   "cell_type": "code",
   "execution_count": null,
   "id": "119124c9-78fc-46b7-ba53-eabfa655278c",
   "metadata": {},
   "outputs": [],
   "source": [
    "# Load reconstruction model\n",
    "model_path = '/path/to/model.pth'\n",
    "\n",
    "# Pytorch\n",
    "model = torch.load(model_path, map_location=torch.device('cpu'))\n",
    "\n",
    "# kNNRegressor (Sklearn)\n",
    "# model = load(model_path)"
   ]
  },
  {
   "cell_type": "code",
   "execution_count": null,
   "id": "f91a0df4-5b53-476e-952d-728ebd60fa9a",
   "metadata": {},
   "outputs": [],
   "source": [
    "# Predict\n",
    "# Pytorch\n",
    "prediction = model(const.st_eval.float())\n",
    "\n",
    "# kNNRegressor (Sklearn)\n",
    "# prediction = model.forward(const.st_eval)\n",
    "\n",
    "pred_reshaped = reshape_raveled_data(prediction, const.U_red.shape[1:])"
   ]
  },
  {
   "cell_type": "code",
   "execution_count": null,
   "id": "427ac56c-360e-4da7-ac92-f3b19cab7414",
   "metadata": {},
   "outputs": [],
   "source": [
    "# Calculate Jmags\n",
    "jmag_real = get_jmag(const.x_red, const.y_red, const.t_red, const.U_red[5:]).unsqueeze(0)\n",
    "jmag_pred = get_jmag(const.x_red, const.y_red, const.t_red, pred_reshaped[5:]).unsqueeze(0)\n",
    "\n",
    "# Concatenate Jmag to MHD vectors\n",
    "const.U_eval = torch.cat((const.U_eval, jmag_real.ravel().unsqueeze(1)), 1)\n",
    "prediction = torch.cat((prediction, jmag_pred.ravel().unsqueeze(1)), 1)\n",
    "\n",
    "const.U_red = torch.cat((const.U_red, jmag_real))\n",
    "pred_reshaped = torch.cat((pred_reshaped, jmag_pred))"
   ]
  },
  {
   "cell_type": "code",
   "execution_count": null,
   "id": "89c8180f-92d7-4f77-a9f8-f66e6177a672",
   "metadata": {},
   "outputs": [],
   "source": [
    "# Calculate metrics\n",
    "get_metrics(const.U_eval[:, index], prediction[:, index])"
   ]
  },
  {
   "cell_type": "code",
   "execution_count": null,
   "id": "9b37af0b-35cb-456c-942a-ef9f1d198cef",
   "metadata": {},
   "outputs": [],
   "source": [
    "# Choose physical unit\n",
    "phys_unit = 'Density'\n",
    "# phys_unit = 'Vx'\n",
    "# phys_unit = 'Vy'\n",
    "# phys_unit = 'Vz'\n",
    "# phys_unit = 'P'\n",
    "# phys_unit = 'Bx'\n",
    "# phys_unit = 'By'\n",
    "# phys_unit = 'Bz'\n",
    "# phys_unit = 'Jmag'\n",
    "index = phys_unit_to_index(phys_unit)"
   ]
  },
  {
   "cell_type": "code",
   "execution_count": null,
   "id": "abf05b62-955f-410f-80f9-ddf83a80516d",
   "metadata": {},
   "outputs": [],
   "source": [
    "# Choose colormap\n",
    "cmap = 'hot'\n",
    "# cmap = 'rainbow'"
   ]
  },
  {
   "cell_type": "code",
   "execution_count": null,
   "id": "ffe7c72d-eb38-4630-aeb7-a65935ff9e01",
   "metadata": {},
   "outputs": [],
   "source": [
    "# Create color plot\n",
    "color_plot_for_specific_time(const.x_red, const.y_red, pred_reshaped, index, cmap=cmap)"
   ]
  },
  {
   "cell_type": "code",
   "execution_count": null,
   "id": "d03009e2-8cd1-44af-8188-602c7203f133",
   "metadata": {},
   "outputs": [],
   "source": [
    "# Animate color plot over time\n",
    "color_plot_animation(const.x_red, const.y_red, const.t_red, pred_reshaped, index, cmap=cmap)"
   ]
  },
  {
   "cell_type": "code",
   "execution_count": null,
   "id": "c717a5c6-1b0d-4527-b78a-36cb697f180b",
   "metadata": {},
   "outputs": [],
   "source": [
    "# Create scatter plot\n",
    "scatter_plot(const.st_eval, prediction, index, cmap=cmap)"
   ]
  },
  {
   "cell_type": "code",
   "execution_count": null,
   "id": "90d9431f-e8d5-4249-917f-cf2203389d78",
   "metadata": {},
   "outputs": [],
   "source": [
    "# Create binned heatmap\n",
    "create_binned_heatmap_from_original_data(const.U_eval, prediction, index)"
   ]
  },
  {
   "cell_type": "code",
   "execution_count": null,
   "id": "2cbb4598-bb04-46fe-a4c8-5d45627433db",
   "metadata": {},
   "outputs": [],
   "source": [
    "# Create line plot\n",
    "x_data = const.y_red\n",
    "line_plot(x_data, const.U_red, pred_reshaped, index, t_val=40)"
   ]
  },
  {
   "cell_type": "code",
   "execution_count": null,
   "id": "c71ec722-0054-4a8c-84bd-f96d700690d6",
   "metadata": {},
   "outputs": [],
   "source": [
    "# Create kernel density plot\n",
    "kdp = kernel_density_plot(const.U_eval, prediction, index)"
   ]
  },
  {
   "cell_type": "code",
   "execution_count": null,
   "id": "196a9518-d81c-43f0-b9b2-f93454abd181",
   "metadata": {},
   "outputs": [],
   "source": [
    "# Create bar plot\n",
    "data = {\n",
    "    'MSE': [0, 0, 0, 0, 0, 0, 0],\n",
    "    'MAE': [0, 0, 0, 0, 0, 0, 0],\n",
    "    'PC': [1, 1, 1, 1, 1, 1, 1]\n",
    "}\n",
    "xticks = ['None', 'Cuboid', 'Cylinder', 'Physical', 'Trade-off', 'Coefficient', 'Num-Diff']\n",
    "\n",
    "bar_plot(data, xticks)"
   ]
  }
 ],
 "metadata": {
  "kernelspec": {
   "display_name": "Python 3 (ipykernel)",
   "language": "python",
   "name": "python3"
  },
  "language_info": {
   "codemirror_mode": {
    "name": "ipython",
    "version": 3
   },
   "file_extension": ".py",
   "mimetype": "text/x-python",
   "name": "python",
   "nbconvert_exporter": "python",
   "pygments_lexer": "ipython3",
   "version": "3.8.10"
  }
 },
 "nbformat": 4,
 "nbformat_minor": 5
}
